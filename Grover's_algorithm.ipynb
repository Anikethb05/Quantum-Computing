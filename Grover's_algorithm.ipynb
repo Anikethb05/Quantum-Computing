{
  "nbformat": 4,
  "nbformat_minor": 0,
  "metadata": {
    "colab": {
      "provenance": [],
      "authorship_tag": "ABX9TyP2HqgwOyzCLY8TMrFNsOD/",
      "include_colab_link": true
    },
    "kernelspec": {
      "name": "python3",
      "display_name": "Python 3"
    },
    "language_info": {
      "name": "python"
    }
  },
  "cells": [
    {
      "cell_type": "markdown",
      "metadata": {
        "id": "view-in-github",
        "colab_type": "text"
      },
      "source": [
        "<a href=\"https://colab.research.google.com/github/Anikethb05/Quantum-Computing/blob/main/Grover's_algorithm.ipynb\" target=\"_parent\"><img src=\"https://colab.research.google.com/assets/colab-badge.svg\" alt=\"Open In Colab\"/></a>"
      ]
    },
    {
      "cell_type": "markdown",
      "source": [
        "# Grover's Algorithm"
      ],
      "metadata": {
        "id": "gg__ijlOM7E0"
      }
    },
    {
      "cell_type": "code",
      "execution_count": 175,
      "metadata": {
        "id": "wVwvP-obDKSZ"
      },
      "outputs": [],
      "source": [
        "# !pip install qiskit qiskit-aer pylatexenc"
      ]
    },
    {
      "cell_type": "code",
      "source": [
        "from qiskit import QuantumCircuit, QuantumRegister, ClassicalRegister, transpile\n",
        "from qiskit.visualization import plot_histogram\n",
        "from qiskit_aer import AerSimulator\n",
        "from qiskit.circuit.library import MCMTGate, XGate\n",
        "from matplotlib import pyplot as plt\n",
        "import numpy as np"
      ],
      "metadata": {
        "id": "50fleezaDTtC"
      },
      "execution_count": 176,
      "outputs": []
    },
    {
      "cell_type": "code",
      "source": [
        "QC=QuantumCircuit(3,3)"
      ],
      "metadata": {
        "id": "DKwbLUBmD0rh"
      },
      "execution_count": 177,
      "outputs": []
    },
    {
      "cell_type": "markdown",
      "source": [
        "## Initialization"
      ],
      "metadata": {
        "id": "5z7BDX9nErRn"
      }
    },
    {
      "cell_type": "code",
      "source": [
        "QC.h(0)\n",
        "QC.h(1)\n",
        "QC.barrier()"
      ],
      "metadata": {
        "colab": {
          "base_uri": "https://localhost:8080/"
        },
        "id": "odtaElGKECWZ",
        "outputId": "dfb83930-dc0b-4264-b897-d5137c3ce253"
      },
      "execution_count": 178,
      "outputs": [
        {
          "output_type": "execute_result",
          "data": {
            "text/plain": [
              "CircuitInstruction(operation=Instruction(name='barrier', num_qubits=3, num_clbits=0, params=[]), qubits=(<Qubit register=(3, \"q\"), index=0>, <Qubit register=(3, \"q\"), index=1>, <Qubit register=(3, \"q\"), index=2>), clbits=())"
            ]
          },
          "metadata": {},
          "execution_count": 178
        }
      ]
    },
    {
      "cell_type": "markdown",
      "source": [
        "## Oracle"
      ],
      "metadata": {
        "id": "lnfIrdgiEtf-"
      }
    },
    {
      "cell_type": "code",
      "source": [
        "oracle=MCMTGate(XGate(),2,1,ctrl_state=\"01\")\n",
        "QC.append(oracle,[0,1,2])\n",
        "QC.barrier()"
      ],
      "metadata": {
        "id": "R9rZwl3yEixa",
        "colab": {
          "base_uri": "https://localhost:8080/"
        },
        "outputId": "72e8cbee-e890-4c02-cc93-b0ee54519cdd"
      },
      "execution_count": 179,
      "outputs": [
        {
          "output_type": "execute_result",
          "data": {
            "text/plain": [
              "CircuitInstruction(operation=Instruction(name='barrier', num_qubits=3, num_clbits=0, params=[]), qubits=(<Qubit register=(3, \"q\"), index=0>, <Qubit register=(3, \"q\"), index=1>, <Qubit register=(3, \"q\"), index=2>), clbits=())"
            ]
          },
          "metadata": {},
          "execution_count": 179
        }
      ]
    },
    {
      "cell_type": "markdown",
      "source": [
        "## Diffuser"
      ],
      "metadata": {
        "id": "v2xR10-bG8yi"
      }
    },
    {
      "cell_type": "code",
      "source": [
        "QC.h([0,1])\n",
        "QC.x([0,1])\n",
        "QC.h(1)\n",
        "#QC.cx(0,1)\n",
        "diff=MCMTGate(XGate(),1,1,ctrl_state=\"1\")\n",
        "QC.append(diff,[0,1])\n",
        "QC.h(1)\n",
        "QC.x([0,1])\n",
        "QC.h([0,1])\n",
        "QC.barrier()"
      ],
      "metadata": {
        "id": "zy1CU92BGqg7",
        "colab": {
          "base_uri": "https://localhost:8080/"
        },
        "outputId": "78ecc435-36aa-4719-b169-876bc3c89e9a"
      },
      "execution_count": 180,
      "outputs": [
        {
          "output_type": "execute_result",
          "data": {
            "text/plain": [
              "CircuitInstruction(operation=Instruction(name='barrier', num_qubits=3, num_clbits=0, params=[]), qubits=(<Qubit register=(3, \"q\"), index=0>, <Qubit register=(3, \"q\"), index=1>, <Qubit register=(3, \"q\"), index=2>), clbits=())"
            ]
          },
          "metadata": {},
          "execution_count": 180
        }
      ]
    },
    {
      "cell_type": "code",
      "source": [
        "QC.draw('mpl')"
      ],
      "metadata": {
        "colab": {
          "base_uri": "https://localhost:8080/",
          "height": 320
        },
        "id": "5OM2Sn9PHuhb",
        "outputId": "0d900cc0-bdea-4835-dc3b-b866daa9339f"
      },
      "execution_count": 181,
      "outputs": [
        {
          "output_type": "execute_result",
          "data": {
            "text/plain": [
              "<Figure size 1123.61x367.889 with 1 Axes>"
            ],
            "image/png": "[encoded data removed]"
          },
          "metadata": {},
          "execution_count": 181
        }
      ]
    },
    {
      "cell_type": "code",
      "source": [
        "QC.measure(0,1)\n",
        "QC.measure(1,0)\n",
        "backend=AerSimulator()\n",
        "QCT=transpile(QC,backend)\n",
        "jobs=backend.run(QCT,shots=1024*32)\n",
        "result=jobs.result()\n",
        "counts=result.get_counts()\n",
        "plot_histogram(counts)"
      ],
      "metadata": {
        "colab": {
          "base_uri": "https://localhost:8080/",
          "height": 487
        },
        "id": "FcPIuAklI8df",
        "outputId": "c39dd239-e0e8-4960-c16b-9b6674df8d9b"
      },
      "execution_count": 182,
      "outputs": [
        {
          "output_type": "execute_result",
          "data": {
            "text/plain": [
              "<Figure size 640x480 with 1 Axes>"
            ],
            "image/png": "[encoded data removed]"
          },
          "metadata": {},
          "execution_count": 182
        }
      ]
    }
  ]
}